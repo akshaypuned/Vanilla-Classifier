{
  "nbformat": 4,
  "nbformat_minor": 0,
  "metadata": {
    "colab": {
      "name": "Vanilla Clasifier.ipynb",
      "provenance": [],
      "collapsed_sections": []
    },
    "kernelspec": {
      "name": "python3",
      "display_name": "Python 3"
    },
    "accelerator": "GPU"
  },
  "cells": [
    {
      "cell_type": "code",
      "metadata": {
        "colab": {
          "base_uri": "https://localhost:8080/"
        },
        "id": "7SQjDbRgeoh0",
        "outputId": "2f0d308e-1f9d-4380-a84e-b202ec538733"
      },
      "source": [
        "from keras.models import Sequential\n",
        "from keras.layers import Conv2D\n",
        "from keras.layers import MaxPooling2D\n",
        "from keras.layers import Flatten\n",
        "from keras.layers import Dense\n",
        "\n",
        "#Creating network\n",
        "pipeline = Sequential()\n",
        "\n",
        "pipeline.add(Conv2D(32, (3,3), input_shape = (64,64,3), activation = 'relu'))\n",
        "\n",
        "pipeline.add(MaxPooling2D(pool_size = (2,2)))\n",
        "\n",
        "pipeline.add(Conv2D(32, (3,3), activation = 'relu'))\n",
        "\n",
        "pipeline.add(MaxPooling2D(pool_size = (2,2)))\n",
        "\n",
        "pipeline.add(Flatten())\n",
        "\n",
        "pipeline.add(Dense(units = 128, activation = 'relu'))\n",
        "\n",
        "pipeline.add(Dense(units = 2, activation = 'softmax'))\n",
        "\n",
        "pipeline.compile(optimizer = 'adam', loss = 'categorical_crossentropy', metrics = ['accuracy'])\n",
        "\n",
        "#Inputing images\n",
        "\n",
        "from keras.preprocessing.image import ImageDataGenerator\n",
        "\n",
        "training_data = ImageDataGenerator(rescale=1/255)\n",
        "testing_data = ImageDataGenerator(rescale=1/255)\n",
        "\n",
        "training_dataset = training_data.flow_from_directory('/content/drive/MyDrive/Colab Notebooks/Vanilla Classifier/images', target_size=(64,64), batch_size=32, class_mode='categorical')\n",
        "testing_dataset = testing_data.flow_from_directory('/content/drive/MyDrive/Colab Notebooks/Vanilla Classifier/images', target_size=(64,64), batch_size=32, class_mode='categorical')\n",
        "\n",
        "pipeline.fit_generator(training_dataset, steps_per_epoch = len(training_dataset), epochs = 2000, validation_data=testing_dataset, validation_steps=len(testing_dataset))\n",
        "\n",
        "#verification\n",
        "import numpy as np\n",
        "from keras_preprocessing import image\n",
        "test_image = image.load_img('/content/drive/MyDrive/Colab Notebooks/Vanilla Classifier/images/b/2.jpg', target_size=(64,64))\n",
        "test_image = image.img_to_array(test_image)\n",
        "test_image = np.expand_dims(test_image, axis=0)\n",
        "result = pipeline.predict(test_image)\n",
        "training_dataset.class_indices\n",
        "print(result)\n",
        "if result[0][0] == 1:\n",
        "    prediction = 'Brad Pitt'\n",
        "    print(prediction)\n",
        "else:\n",
        "    prediction = 'Chris Hemsworth'\n",
        "    print(prediction)\n"
      ],
      "execution_count": null,
      "outputs": [
        {
          "output_type": "stream",
          "text": [
            "Found 20 images belonging to 2 classes.\n",
            "Found 20 images belonging to 2 classes.\n"
          ],
          "name": "stdout"
        },
        {
          "output_type": "stream",
          "text": [
            "/usr/local/lib/python3.7/dist-packages/tensorflow/python/keras/engine/training.py:1844: UserWarning: `Model.fit_generator` is deprecated and will be removed in a future version. Please use `Model.fit`, which supports generators.\n",
            "  warnings.warn('`Model.fit_generator` is deprecated and '\n"
          ],
          "name": "stderr"
        },
        {
          "output_type": "stream",
          "text": [
            "Epoch 1/20\n",
            "1/1 [==============================] - 3s 3s/step - loss: 0.6990 - accuracy: 0.5000 - val_loss: 0.6224 - val_accuracy: 0.7000\n",
            "Epoch 2/20\n",
            "1/1 [==============================] - 2s 2s/step - loss: 0.6224 - accuracy: 0.7000 - val_loss: 0.6232 - val_accuracy: 0.5000\n",
            "Epoch 3/20\n",
            "1/1 [==============================] - 2s 2s/step - loss: 0.6232 - accuracy: 0.5000 - val_loss: 0.4717 - val_accuracy: 0.9500\n",
            "Epoch 4/20\n",
            "1/1 [==============================] - 2s 2s/step - loss: 0.4717 - accuracy: 0.9500 - val_loss: 0.4043 - val_accuracy: 0.9000\n",
            "Epoch 5/20\n",
            "1/1 [==============================] - 2s 2s/step - loss: 0.4043 - accuracy: 0.9000 - val_loss: 0.3148 - val_accuracy: 0.9500\n",
            "Epoch 6/20\n",
            "1/1 [==============================] - 2s 2s/step - loss: 0.3148 - accuracy: 0.9500 - val_loss: 0.2574 - val_accuracy: 0.9500\n",
            "Epoch 7/20\n",
            "1/1 [==============================] - 2s 2s/step - loss: 0.2574 - accuracy: 0.9500 - val_loss: 0.1850 - val_accuracy: 0.9500\n",
            "Epoch 8/20\n",
            "1/1 [==============================] - 2s 2s/step - loss: 0.1850 - accuracy: 0.9500 - val_loss: 0.1426 - val_accuracy: 0.9500\n",
            "Epoch 9/20\n",
            "1/1 [==============================] - 2s 2s/step - loss: 0.1426 - accuracy: 0.9500 - val_loss: 0.1038 - val_accuracy: 1.0000\n",
            "Epoch 10/20\n",
            "1/1 [==============================] - 2s 2s/step - loss: 0.1038 - accuracy: 1.0000 - val_loss: 0.0732 - val_accuracy: 1.0000\n",
            "Epoch 11/20\n",
            "1/1 [==============================] - 2s 2s/step - loss: 0.0732 - accuracy: 1.0000 - val_loss: 0.0472 - val_accuracy: 1.0000\n",
            "Epoch 12/20\n",
            "1/1 [==============================] - 2s 2s/step - loss: 0.0472 - accuracy: 1.0000 - val_loss: 0.0287 - val_accuracy: 1.0000\n",
            "Epoch 13/20\n",
            "1/1 [==============================] - 2s 2s/step - loss: 0.0287 - accuracy: 1.0000 - val_loss: 0.0168 - val_accuracy: 1.0000\n",
            "Epoch 14/20\n",
            "1/1 [==============================] - 2s 2s/step - loss: 0.0168 - accuracy: 1.0000 - val_loss: 0.0104 - val_accuracy: 1.0000\n",
            "Epoch 15/20\n",
            "1/1 [==============================] - 2s 2s/step - loss: 0.0104 - accuracy: 1.0000 - val_loss: 0.0055 - val_accuracy: 1.0000\n",
            "Epoch 16/20\n",
            "1/1 [==============================] - 2s 2s/step - loss: 0.0055 - accuracy: 1.0000 - val_loss: 0.0034 - val_accuracy: 1.0000\n",
            "Epoch 17/20\n",
            "1/1 [==============================] - 2s 2s/step - loss: 0.0034 - accuracy: 1.0000 - val_loss: 0.0024 - val_accuracy: 1.0000\n",
            "Epoch 18/20\n",
            "1/1 [==============================] - 2s 2s/step - loss: 0.0024 - accuracy: 1.0000 - val_loss: 0.0016 - val_accuracy: 1.0000\n",
            "Epoch 19/20\n",
            "1/1 [==============================] - 2s 2s/step - loss: 0.0016 - accuracy: 1.0000 - val_loss: 9.4337e-04 - val_accuracy: 1.0000\n",
            "Epoch 20/20\n",
            "1/1 [==============================] - 2s 2s/step - loss: 9.4337e-04 - accuracy: 1.0000 - val_loss: 5.6959e-04 - val_accuracy: 1.0000\n",
            "WARNING:tensorflow:5 out of the last 5 calls to <function Model.make_predict_function.<locals>.predict_function at 0x7f3105b047a0> triggered tf.function retracing. Tracing is expensive and the excessive number of tracings could be due to (1) creating @tf.function repeatedly in a loop, (2) passing tensors with different shapes, (3) passing Python objects instead of tensors. For (1), please define your @tf.function outside of the loop. For (2), @tf.function has experimental_relax_shapes=True option that relaxes argument shapes that can avoid unnecessary retracing. For (3), please refer to https://www.tensorflow.org/guide/function#controlling_retracing and https://www.tensorflow.org/api_docs/python/tf/function for  more details.\n",
            "[[0. 1.]]\n",
            "Chris Hemsworth\n"
          ],
          "name": "stdout"
        }
      ]
    },
    {
      "cell_type": "code",
      "metadata": {
        "id": "xl8nkahwzvdr"
      },
      "source": [
        ""
      ],
      "execution_count": null,
      "outputs": []
    }
  ]
}